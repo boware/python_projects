# Importing necessary libraries
import pandas as pd
import matplotlib.pyplot as plt
import seaborn as sns

# Load the data
df = pd.read_csv('data/application_train.csv')

# Display the first few rows of the data
df.head()

# Basic info on data types and missing values
df.info()

# Descriptive statistics for numeric features
df.describe()

# Distribution of target variable 'TARGET' (whether the applicant defaulted)
sns.countplot(x='TARGET', data=df)
plt.title('Distribution of Defaulted Loans')
plt.show()

# Check for missing values
missing_data = df.isnull().sum()
missing_data[missing_data > 0]
