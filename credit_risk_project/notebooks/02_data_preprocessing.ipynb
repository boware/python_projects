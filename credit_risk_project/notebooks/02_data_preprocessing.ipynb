{
 "cells": [
  {
   "cell_type": "markdown",
   "id": "dc31b691",
   "metadata": {},
   "source": [
    "##### Importing necessary libraries"
   ]
  },
  {
   "cell_type": "code",
   "execution_count": 1,
   "id": "b22de368",
   "metadata": {},
   "outputs": [],
   "source": [
    "from sklearn.preprocessing import StandardScaler\n",
    "from sklearn.impute import SimpleImputer"
   ]
  },
  {
   "cell_type": "code",
   "execution_count": null,
   "id": "978d82ff",
   "metadata": {},
   "outputs": [],
   "source": [
    "# Load preprocessed data\n",
    "df = pd.read_csv('data/application_train.csv')"
   ]
  },
  {
   "cell_type": "code",
   "execution_count": null,
   "id": "06d8df64",
   "metadata": {},
   "outputs": [],
   "source": [
    "# Handling missing values with SimpleImputer\n",
    "imputer = SimpleImputer(strategy='most_frequent')\n",
    "df_imputed = pd.DataFrame(imputer.fit_transform(df), columns=df.columns)"
   ]
  },
  {
   "cell_type": "code",
   "execution_count": null,
   "id": "df0c9990",
   "metadata": {},
   "outputs": [],
   "source": [
    "# Feature scaling using StandardScaler\n",
    "scaler = StandardScaler()\n",
    "numeric_columns = df_imputed.select_dtypes(include=['float64', 'int64']).columns\n",
    "df_imputed[numeric_columns] = scaler.fit_transform(df_imputed[numeric_columns])"
   ]
  },
  {
   "cell_type": "code",
   "execution_count": null,
   "id": "fd8624f5",
   "metadata": {},
   "outputs": [],
   "source": [
    "# Checking the processed data\n",
    "df_imputed.head()"
   ]
  },
  {
   "cell_type": "code",
   "execution_count": null,
   "id": "fe78a68d",
   "metadata": {},
   "outputs": [],
   "source": [
    "# Save preprocessed data to CSV for future steps\n",
    "df_imputed.to_csv('data/preprocessed_train.csv', index=False)"
   ]
  }
 ],
 "metadata": {
  "kernelspec": {
   "display_name": "uni",
   "language": "python",
   "name": "python3"
  },
  "language_info": {
   "codemirror_mode": {
    "name": "ipython",
    "version": 3
   },
   "file_extension": ".py",
   "mimetype": "text/x-python",
   "name": "python",
   "nbconvert_exporter": "python",
   "pygments_lexer": "ipython3",
   "version": "3.12.0"
  }
 },
 "nbformat": 4,
 "nbformat_minor": 5
}
