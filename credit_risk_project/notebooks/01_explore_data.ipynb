{
 "cells": [
  {
   "cell_type": "code",
   "execution_count": null,
   "id": "2fa7a8fe",
   "metadata": {},
   "outputs": [],
   "source": [
    "# Importing necessary libraries\n",
    "import pandas as pd\n",
    "import matplotlib.pyplot as plt\n",
    "import seaborn as sns"
   ]
  },
  {
   "cell_type": "code",
   "execution_count": null,
   "id": "4802051d",
   "metadata": {},
   "outputs": [],
   "source": [
    "# Load the data\n",
    "df = pd.read_csv('data/home-credit-default-risk.csv')"
   ]
  },
  {
   "cell_type": "code",
   "execution_count": null,
   "id": "c8c42f49",
   "metadata": {},
   "outputs": [],
   "source": [
    "# Display the first few rows of the data\n",
    "df.head()"
   ]
  },
  {
   "cell_type": "code",
   "execution_count": null,
   "id": "0abd146d",
   "metadata": {},
   "outputs": [],
   "source": [
    "# Basic info on data types and missing values\n",
    "df.info()"
   ]
  },
  {
   "cell_type": "code",
   "execution_count": null,
   "id": "39943ec6",
   "metadata": {},
   "outputs": [],
   "source": [
    "# Descriptive statistics for numeric features\n",
    "df.describe()"
   ]
  },
  {
   "cell_type": "code",
   "execution_count": null,
   "id": "92f403c5",
   "metadata": {},
   "outputs": [],
   "source": [
    "# Distribution of target variable 'TARGET' (whether the applicant defaulted)\n",
    "sns.countplot(x='TARGET', data=df)\n",
    "plt.title('Distribution of Defaulted Loans')\n",
    "plt.show()"
   ]
  },
  {
   "cell_type": "code",
   "execution_count": null,
   "id": "f52baabc",
   "metadata": {},
   "outputs": [],
   "source": [
    "# Check for missing values\n",
    "missing_data = df.isnull().sum()\n",
    "missing_data[missing_data > 0]"
   ]
  }
 ],
 "metadata": {
  "language_info": {
   "name": "python"
  }
 },
 "nbformat": 4,
 "nbformat_minor": 5
}
